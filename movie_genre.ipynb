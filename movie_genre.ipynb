import pandas as pd
import numpy as np
from sklearn.model_selection import train_test_split
from sklearn.feature_extraction.text import TfidfVectorizer
from sklearn.linear_model import LogisticRegression
from sklearn.metrics import accuracy_score, classification_report
from sklearn.model_selection import GridSearchCV
import re
import nltk
from nltk.corpus import stopwords
from nltk.tokenize import word_tokenize
from tqdm import tqdm

import nltk
try:
    nltk.data.find("tokenizers/punkt")
except LookupError:
    nltk.download("punkt")

try:
    nltk.data.find("corpora/stopwords")
except LookupError:
    nltk.download("stopwords")


file_path = '/kaggle/input/genre-classification-dataset/train_data.txt'

data = pd.read_csv(file_path, sep='::: ', engine='python', names=['id', 'tittle', 'genre', 'plot_summary'])

stop_words = set(stopwords.words('english'))

def clean_text(text):
    text = re.sub(r'[^a-zA-Z\s]', '', text)  
    text = text.lower()
    tokens = word_tokenize(text)
    tokens = [word for word in tokens if word not in stop_words]
    return ' '.join(tokens)

print("Cleaning plot summaries...")
data['cleaned_plot'] = [clean_text(text) for text in tqdm(data['plot_summary'], desc="Progress")]

texts = data['cleaned_plot']
labels = data['genre']

print("Genre Distribution:")
print(labels.value_counts())


unique_labels, counts = np.unique(labels, return_counts=True)
total_samples = len(labels)
class_weights = {label: total_samples / (len(unique_labels) * count) for label, count in zip(unique_labels, counts)}

print("Class Weights:", class_weights)
print("Transforming text to TF-IDF features...")
tfidf = TfidfVectorizer(max_features=10000, ngram_range=(1, 2))
X = tfidf.fit_transform(tqdm(texts, desc="TF-IDF Progress"))

X_train, X_test, y_train, y_test = train_test_split(X, labels, test_size=0.2, random_state=42)

from sklearn.linear_model import LogisticRegression

print("Training Logistic Regression model...")
model = LogisticRegression(
    max_iter=1000,
    class_weight=class_weights
)
model.fit(X_train, y_train)

y_pred = model.predict(X_test)

print("\nLogistic Regression Results:")
print(f"Accuracy: {accuracy_score(y_test, y_pred):.4f}")
print(classification_report(y_test, y_pred))

y_pred = model.predict(X_test)

print("\nLogistic Regression Results:")
print(f"Accuracy: {accuracy_score(y_test, y_pred):.4f}")
print(classification_report(y_test, y_pred))

new_plot = input()

cleaned_plot = re.sub(r'[^a-zA-Z\s]', '', new_plot.lower())
tokens = word_tokenize(cleaned_plot)
tokens = [word for word in tokens if word not in stop_words]
plot_tfidf = tfidf.transform([' '.join(tokens)])

predicted_genre = model.predict(plot_tfidf)
print(f"Predicted Genre: {predicted_genre[0]}")
