{
 "cells": [
  {
   "cell_type": "code",
   "execution_count": 1,
   "id": "491015e2",
   "metadata": {
    "_cell_guid": "b1076dfc-b9ad-4769-8c92-a6c4dae69d19",
    "_uuid": "8f2839f25d086af736a60e9eeb907d3b93b6e0e5",
    "execution": {
     "iopub.execute_input": "2025-08-29T16:01:46.351159Z",
     "iopub.status.busy": "2025-08-29T16:01:46.350748Z",
     "iopub.status.idle": "2025-08-29T16:01:50.099428Z",
     "shell.execute_reply": "2025-08-29T16:01:50.098095Z"
    },
    "papermill": {
     "duration": 3.754512,
     "end_time": "2025-08-29T16:01:50.101015",
     "exception": false,
     "start_time": "2025-08-29T16:01:46.346503",
     "status": "completed"
    },
    "tags": []
   },
   "outputs": [],
   "source": [
    "import pandas as pd\n",
    "import numpy as np\n",
    "from sklearn.model_selection import train_test_split\n",
    "from sklearn.preprocessing import StandardScaler\n",
    "from sklearn.linear_model import LogisticRegression\n",
    "from sklearn.tree import DecisionTreeClassifier\n",
    "from sklearn.ensemble import RandomForestClassifier\n",
    "from sklearn.metrics import accuracy_score, classification_report\n",
    "import warnings\n",
    "warnings.filterwarnings(\"ignore\")"
   ]
  },
  {
   "cell_type": "code",
   "execution_count": 2,
   "id": "e6993ed7",
   "metadata": {
    "execution": {
     "iopub.execute_input": "2025-08-29T16:01:50.107451Z",
     "iopub.status.busy": "2025-08-29T16:01:50.106215Z",
     "iopub.status.idle": "2025-08-29T16:02:08.526127Z",
     "shell.execute_reply": "2025-08-29T16:02:08.524971Z"
    },
    "papermill": {
     "duration": 18.424827,
     "end_time": "2025-08-29T16:02:08.528205",
     "exception": false,
     "start_time": "2025-08-29T16:01:50.103378",
     "status": "completed"
    },
    "tags": []
   },
   "outputs": [],
   "source": [
    "train_data = pd.read_csv(\"/kaggle/input/fraud-detection/fraudTrain.csv\")\n",
    "test_data = pd.read_csv(\"/kaggle/input/fraud-detection/fraudTest.csv\")"
   ]
  },
  {
   "cell_type": "code",
   "execution_count": 3,
   "id": "687d516f",
   "metadata": {
    "execution": {
     "iopub.execute_input": "2025-08-29T16:02:08.533576Z",
     "iopub.status.busy": "2025-08-29T16:02:08.533280Z",
     "iopub.status.idle": "2025-08-29T16:02:08.698736Z",
     "shell.execute_reply": "2025-08-29T16:02:08.697370Z"
    },
    "papermill": {
     "duration": 0.169771,
     "end_time": "2025-08-29T16:02:08.700452",
     "exception": false,
     "start_time": "2025-08-29T16:02:08.530681",
     "status": "completed"
    },
    "tags": []
   },
   "outputs": [],
   "source": [
    "data = pd.concat([train_data, test_data], axis=0)"
   ]
  },
  {
   "cell_type": "code",
   "execution_count": 4,
   "id": "94ed753b",
   "metadata": {
    "execution": {
     "iopub.execute_input": "2025-08-29T16:02:08.705738Z",
     "iopub.status.busy": "2025-08-29T16:02:08.705381Z",
     "iopub.status.idle": "2025-08-29T16:02:08.984919Z",
     "shell.execute_reply": "2025-08-29T16:02:08.983828Z"
    },
    "papermill": {
     "duration": 0.283976,
     "end_time": "2025-08-29T16:02:08.986408",
     "exception": false,
     "start_time": "2025-08-29T16:02:08.702432",
     "status": "completed"
    },
    "tags": []
   },
   "outputs": [],
   "source": [
    "X = data.drop(columns=[\"is_fraud\"])\n",
    "y = data[\"is_fraud\"]"
   ]
  },
  {
   "cell_type": "code",
   "execution_count": 5,
   "id": "cd658b9a",
   "metadata": {
    "execution": {
     "iopub.execute_input": "2025-08-29T16:02:08.991712Z",
     "iopub.status.busy": "2025-08-29T16:02:08.991288Z",
     "iopub.status.idle": "2025-08-29T16:02:09.195565Z",
     "shell.execute_reply": "2025-08-29T16:02:09.194020Z"
    },
    "papermill": {
     "duration": 0.208998,
     "end_time": "2025-08-29T16:02:09.197270",
     "exception": false,
     "start_time": "2025-08-29T16:02:08.988272",
     "status": "completed"
    },
    "tags": []
   },
   "outputs": [],
   "source": [
    "X = X.select_dtypes(include=[np.number])"
   ]
  },
  {
   "cell_type": "code",
   "execution_count": 6,
   "id": "b6298b17",
   "metadata": {
    "execution": {
     "iopub.execute_input": "2025-08-29T16:02:09.202440Z",
     "iopub.status.busy": "2025-08-29T16:02:09.202033Z",
     "iopub.status.idle": "2025-08-29T16:02:09.489593Z",
     "shell.execute_reply": "2025-08-29T16:02:09.488597Z"
    },
    "papermill": {
     "duration": 0.292124,
     "end_time": "2025-08-29T16:02:09.491336",
     "exception": false,
     "start_time": "2025-08-29T16:02:09.199212",
     "status": "completed"
    },
    "tags": []
   },
   "outputs": [],
   "source": [
    "scaler = StandardScaler()\n",
    "X_scaled = scaler.fit_transform(X)"
   ]
  },
  {
   "cell_type": "code",
   "execution_count": 7,
   "id": "5a010243",
   "metadata": {
    "execution": {
     "iopub.execute_input": "2025-08-29T16:02:09.496217Z",
     "iopub.status.busy": "2025-08-29T16:02:09.495919Z",
     "iopub.status.idle": "2025-08-29T16:02:10.125570Z",
     "shell.execute_reply": "2025-08-29T16:02:10.124334Z"
    },
    "papermill": {
     "duration": 0.634148,
     "end_time": "2025-08-29T16:02:10.127438",
     "exception": false,
     "start_time": "2025-08-29T16:02:09.493290",
     "status": "completed"
    },
    "tags": []
   },
   "outputs": [],
   "source": [
    "X_train, X_test, y_train, y_test = train_test_split(\n",
    "    X_scaled, y, test_size=0.3, random_state=42, stratify=y\n",
    ")"
   ]
  },
  {
   "cell_type": "code",
   "execution_count": 8,
   "id": "49a081b4",
   "metadata": {
    "execution": {
     "iopub.execute_input": "2025-08-29T16:02:10.133522Z",
     "iopub.status.busy": "2025-08-29T16:02:10.133215Z",
     "iopub.status.idle": "2025-08-29T16:02:13.236209Z",
     "shell.execute_reply": "2025-08-29T16:02:13.235039Z"
    },
    "papermill": {
     "duration": 3.107627,
     "end_time": "2025-08-29T16:02:13.237749",
     "exception": false,
     "start_time": "2025-08-29T16:02:10.130122",
     "status": "completed"
    },
    "tags": []
   },
   "outputs": [
    {
     "name": "stdout",
     "output_type": "stream",
     "text": [
      "Logistic Regression Results:\n",
      "              precision    recall  f1-score   support\n",
      "\n",
      "           0       0.99      1.00      1.00    552824\n",
      "           1       0.00      0.00      0.00      2895\n",
      "\n",
      "    accuracy                           0.99    555719\n",
      "   macro avg       0.50      0.50      0.50    555719\n",
      "weighted avg       0.99      0.99      0.99    555719\n",
      "\n"
     ]
    }
   ],
   "source": [
    "log_model = LogisticRegression(max_iter=1000)\n",
    "log_model.fit(X_train, y_train)\n",
    "log_pred = log_model.predict(X_test)\n",
    "print(\"Logistic Regression Results:\")\n",
    "print(classification_report(y_test, log_pred))"
   ]
  },
  {
   "cell_type": "code",
   "execution_count": 9,
   "id": "8b18d242",
   "metadata": {
    "execution": {
     "iopub.execute_input": "2025-08-29T16:02:13.243722Z",
     "iopub.status.busy": "2025-08-29T16:02:13.243414Z",
     "iopub.status.idle": "2025-08-29T16:02:49.152258Z",
     "shell.execute_reply": "2025-08-29T16:02:49.151213Z"
    },
    "papermill": {
     "duration": 35.913199,
     "end_time": "2025-08-29T16:02:49.153477",
     "exception": false,
     "start_time": "2025-08-29T16:02:13.240278",
     "status": "completed"
    },
    "tags": []
   },
   "outputs": [
    {
     "name": "stdout",
     "output_type": "stream",
     "text": [
      "Decision Tree Results:\n",
      "              precision    recall  f1-score   support\n",
      "\n",
      "           0       1.00      1.00      1.00    552824\n",
      "           1       0.39      0.44      0.41      2895\n",
      "\n",
      "    accuracy                           0.99    555719\n",
      "   macro avg       0.69      0.72      0.70    555719\n",
      "weighted avg       0.99      0.99      0.99    555719\n",
      "\n"
     ]
    }
   ],
   "source": [
    "tree_model = DecisionTreeClassifier(random_state=42)\n",
    "tree_model.fit(X_train, y_train)\n",
    "tree_pred = tree_model.predict(X_test)\n",
    "print(\"Decision Tree Results:\")\n",
    "print(classification_report(y_test, tree_pred))"
   ]
  },
  {
   "cell_type": "code",
   "execution_count": 10,
   "id": "14d6866a",
   "metadata": {
    "execution": {
     "iopub.execute_input": "2025-08-29T16:02:49.159185Z",
     "iopub.status.busy": "2025-08-29T16:02:49.158774Z",
     "iopub.status.idle": "2025-08-29T16:20:43.035714Z",
     "shell.execute_reply": "2025-08-29T16:20:43.035014Z"
    },
    "papermill": {
     "duration": 1073.88149,
     "end_time": "2025-08-29T16:20:43.037186",
     "exception": false,
     "start_time": "2025-08-29T16:02:49.155696",
     "status": "completed"
    },
    "tags": []
   },
   "outputs": [
    {
     "name": "stdout",
     "output_type": "stream",
     "text": [
      "Random Forest Results:\n",
      "              precision    recall  f1-score   support\n",
      "\n",
      "           0       1.00      1.00      1.00    552824\n",
      "           1       0.84      0.45      0.59      2895\n",
      "\n",
      "    accuracy                           1.00    555719\n",
      "   macro avg       0.92      0.73      0.79    555719\n",
      "weighted avg       1.00      1.00      1.00    555719\n",
      "\n"
     ]
    }
   ],
   "source": [
    "forest_model = RandomForestClassifier(n_estimators=100, random_state=42)\n",
    "forest_model.fit(X_train, y_train)\n",
    "forest_pred = forest_model.predict(X_test)\n",
    "print(\"Random Forest Results:\")\n",
    "print(classification_report(y_test, forest_pred))"
   ]
  },
  {
   "cell_type": "code",
   "execution_count": null,
   "id": "f25c2ef7",
   "metadata": {
    "papermill": {
     "duration": 0.001899,
     "end_time": "2025-08-29T16:20:43.041614",
     "exception": false,
     "start_time": "2025-08-29T16:20:43.039715",
     "status": "completed"
    },
    "tags": []
   },
   "outputs": [],
   "source": []
  }
 ],
 "metadata": {
  "kaggle": {
   "accelerator": "none",
   "dataSources": [
    {
     "datasetId": 817870,
     "sourceId": 1399887,
     "sourceType": "datasetVersion"
    }
   ],
   "dockerImageVersionId": 31089,
   "isGpuEnabled": false,
   "isInternetEnabled": true,
   "language": "python",
   "sourceType": "notebook"
  },
  "kernelspec": {
   "display_name": "Python 3",
   "language": "python",
   "name": "python3"
  },
  "language_info": {
   "codemirror_mode": {
    "name": "ipython",
    "version": 3
   },
   "file_extension": ".py",
   "mimetype": "text/x-python",
   "name": "python",
   "nbconvert_exporter": "python",
   "pygments_lexer": "ipython3",
   "version": "3.11.13"
  },
  "papermill": {
   "default_parameters": {},
   "duration": 1142.98717,
   "end_time": "2025-08-29T16:20:44.168114",
   "environment_variables": {},
   "exception": null,
   "input_path": "__notebook__.ipynb",
   "output_path": "__notebook__.ipynb",
   "parameters": {},
   "start_time": "2025-08-29T16:01:41.180944",
   "version": "2.6.0"
  }
 },
 "nbformat": 4,
 "nbformat_minor": 5
}
